{
  "nbformat": 4,
  "nbformat_minor": 0,
  "metadata": {
    "colab": {
      "provenance": []
    },
    "kernelspec": {
      "name": "python3",
      "display_name": "Python 3"
    },
    "language_info": {
      "name": "python"
    }
  },
  "cells": [
    {
      "cell_type": "code",
      "execution_count": null,
      "metadata": {
        "colab": {
          "base_uri": "https://localhost:8080/"
        },
        "id": "vR1i-M73ZAZl",
        "outputId": "f8b54266-699e-491d-ecec-c81a71408d33"
      },
      "outputs": [
        {
          "output_type": "stream",
          "name": "stdout",
          "text": [
            "Welcome to the Unit Converter!\n",
            "Choose a category to convert:\n",
            "1. Length (km, m, cm, mm)\n",
            "2. Weight (kg, g, mg)\n",
            "3. Volume (kl, litre, ml)\n",
            "Enter option (1/2/3): 1\n",
            "Units: km, m, cm, mm\n",
            "Enter the unit you have: km\n",
            "Enter the amount in km: 12\n",
            "Enter the unit you want to convert to: m\n",
            "12.0 km is equal to 12000.0 m\n"
          ]
        }
      ],
      "source": [
        "# Unit Converter in Python\n",
        "# Supports Length, Weight, and Volume conversions\n",
        "\n",
        "def convert_unit(category, from_unit, to_unit, amount):\n",
        "    # base units: meter, gram, litre\n",
        "    units = {\n",
        "        'length': {\n",
        "            'km': 1000,\n",
        "            'm': 1,\n",
        "            'cm': 0.01,\n",
        "            'mm': 0.001\n",
        "        },\n",
        "        'weight': {\n",
        "            'kg': 1000,\n",
        "            'g': 1,\n",
        "            'mg': 0.001\n",
        "        },\n",
        "        'volume': {\n",
        "            'kl': 1000,\n",
        "            'litre': 1,\n",
        "            'ml': 0.001\n",
        "        }\n",
        "    }\n",
        "\n",
        "    category = category.lower()\n",
        "    from_unit = from_unit.lower()\n",
        "    to_unit = to_unit.lower()\n",
        "\n",
        "    # check if category and units are valid\n",
        "    if category not in units:\n",
        "        return \"Invalid category.\"\n",
        "\n",
        "    if from_unit not in units[category] or to_unit not in units[category]:\n",
        "        return \"Invalid units for this category.\"\n",
        "\n",
        "    # step 1: convert to base unit (e.g., m, g, litre)\n",
        "    base_value = amount * units[category][from_unit]\n",
        "\n",
        "    # step 2: convert to target unit\n",
        "    result = base_value / units[category][to_unit]\n",
        "    return result\n",
        "\n",
        "\n",
        "def main():\n",
        "    print(\"Welcome to the Unit Converter!\")\n",
        "    print(\"Choose a category to convert:\")\n",
        "    print(\"1. Length (km, m, cm, mm)\")\n",
        "    print(\"2. Weight (kg, g, mg)\")\n",
        "    print(\"3. Volume (kl, litre, ml)\")\n",
        "\n",
        "    option = input(\"Enter option (1/2/3): \")\n",
        "\n",
        "    if option == '1':\n",
        "        category = 'length'\n",
        "        print(\"Units: km, m, cm, mm\")\n",
        "    elif option == '2':\n",
        "        category = 'weight'\n",
        "        print(\"Units: kg, g, mg\")\n",
        "    elif option == '3':\n",
        "        category = 'volume'\n",
        "        print(\"Units: kl, litre, ml\")\n",
        "    else:\n",
        "        print(\"Invalid choice.\")\n",
        "        return\n",
        "\n",
        "    from_unit = input(\"Enter the unit you have: \")\n",
        "    try:\n",
        "        amount = float(input(f\"Enter the amount in {from_unit}: \"))\n",
        "    except:\n",
        "        print(\"Please enter a valid number.\")\n",
        "        return\n",
        "\n",
        "    to_unit = input(\"Enter the unit you want to convert to: \")\n",
        "\n",
        "    result = convert_unit(category, from_unit, to_unit, amount)\n",
        "\n",
        "    # result might be a string if there's an error\n",
        "    if isinstance(result, str):\n",
        "        print(result)\n",
        "    else:\n",
        "        print(f\"{amount} {from_unit} is equal to {result} {to_unit}\")\n",
        "\n",
        "\n",
        "# run the program\n",
        "if __name__ == \"__main__\":\n",
        "    main()\n"
      ]
    }
  ]
}